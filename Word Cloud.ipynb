{
 "cells": [
  {
   "cell_type": "code",
   "execution_count": 3,
   "id": "f768ec77",
   "metadata": {},
   "outputs": [],
   "source": [
    "from nltk.tokenize import word_tokenize,sent_tokenize\n",
    "from nltk.corpus import stopwords"
   ]
  },
  {
   "cell_type": "code",
   "execution_count": 4,
   "id": "d4dccd24",
   "metadata": {},
   "outputs": [],
   "source": [
    "corpus='''India, officially the Republic of India (Hindi: Bhārat Gaṇarājya),[25] is a country in South Asia. It is the seventh-largest country by area, the second-most populous country, and the most populous democracy in the world. Bounded by the Indian Ocean on the south, the Arabian Sea on the southwest, and the Bay of Bengal on the southeast, it shares land borders with Pakistan to the west;[f] China, Nepal, and Bhutan to the north; and Bangladesh and Myanmar to the east. In the Indian Ocean, India is in the vicinity of Sri Lanka and the Maldives; its Andaman and Nicobar Islands share a maritime border with Thailand, Myanmar, and Indonesia.'''"
   ]
  },
  {
   "cell_type": "code",
   "execution_count": 5,
   "id": "ea97cead",
   "metadata": {},
   "outputs": [],
   "source": [
    "corpus = corpus.replace(\"[25]\" , \"\")    \n",
    "corpus = corpus.replace(\"[f]\" , \"\")   \n",
    "corpus = corpus.replace(\")\" , \"\")"
   ]
  },
  {
   "cell_type": "code",
   "execution_count": 6,
   "id": "c3d01294",
   "metadata": {},
   "outputs": [
    {
     "name": "stdout",
     "output_type": "stream",
     "text": [
      "India, officially the Republic of India (Hindi: Bhārat Gaṇarājya, is a country in South Asia. It is the seventh-largest country by area, the second-most populous country, and the most populous democracy in the world. Bounded by the Indian Ocean on the south, the Arabian Sea on the southwest, and the Bay of Bengal on the southeast, it shares land borders with Pakistan to the west; China, Nepal, and Bhutan to the north; and Bangladesh and Myanmar to the east. In the Indian Ocean, India is in the vicinity of Sri Lanka and the Maldives; its Andaman and Nicobar Islands share a maritime border with Thailand, Myanmar, and Indonesia.\n"
     ]
    }
   ],
   "source": [
    "print(corpus)\n"
   ]
  },
  {
   "cell_type": "markdown",
   "id": "e59a5074",
   "metadata": {},
   "source": [
    "# Stop words Removal"
   ]
  },
  {
   "cell_type": "code",
   "execution_count": 7,
   "id": "6c5532a8",
   "metadata": {},
   "outputs": [],
   "source": [
    "words=[]\n",
    "for word in word_tokenize(corpus):\n",
    "    if (word.lower() not in stopwords.words('english')) and (len(word)>=2):\n",
    "        words.append(word.lower())"
   ]
  },
  {
   "cell_type": "markdown",
   "id": "1140039b",
   "metadata": {},
   "source": [
    "# Creating Vocab\n"
   ]
  },
  {
   "cell_type": "code",
   "execution_count": 8,
   "id": "89426baf",
   "metadata": {},
   "outputs": [
    {
     "data": {
      "text/plain": [
       "48"
      ]
     },
     "execution_count": 8,
     "metadata": {},
     "output_type": "execute_result"
    }
   ],
   "source": [
    "vocab=list(set(words))\n",
    "len(vocab)"
   ]
  },
  {
   "cell_type": "markdown",
   "id": "ad7bb902",
   "metadata": {},
   "source": [
    "# Create Encoders and Decoders"
   ]
  },
  {
   "cell_type": "markdown",
   "id": "7b23c5b1",
   "metadata": {},
   "source": [
    "Which word represents which numbers and which numbers represents which words\n"
   ]
  },
  {
   "cell_type": "code",
   "execution_count": 9,
   "id": "2ad721e4",
   "metadata": {},
   "outputs": [],
   "source": [
    "num=1\n",
    "word_to_num={}\n",
    "num_to_word={}\n",
    "\n",
    "for i in vocab:\n",
    "    word_to_num[i]=num\n",
    "    num_to_word[num]=i\n",
    "    num+=1"
   ]
  },
  {
   "cell_type": "code",
   "execution_count": 10,
   "id": "8fc5aaff",
   "metadata": {},
   "outputs": [
    {
     "data": {
      "text/plain": [
       "{'shares': 1,\n",
       " 'seventh-largest': 2,\n",
       " 'populous': 3,\n",
       " 'gaṇarājya': 4,\n",
       " 'indian': 5,\n",
       " 'bengal': 6,\n",
       " 'nicobar': 7,\n",
       " 'second-most': 8,\n",
       " 'maldives': 9,\n",
       " 'bay': 10,\n",
       " 'area': 11,\n",
       " 'hindi': 12,\n",
       " 'sri': 13,\n",
       " 'bhārat': 14,\n",
       " 'north': 15,\n",
       " 'indonesia': 16,\n",
       " 'officially': 17,\n",
       " 'thailand': 18,\n",
       " 'west': 19,\n",
       " 'myanmar': 20,\n",
       " 'southwest': 21,\n",
       " 'border': 22,\n",
       " 'nepal': 23,\n",
       " 'bounded': 24,\n",
       " 'arabian': 25,\n",
       " 'borders': 26,\n",
       " 'asia': 27,\n",
       " 'andaman': 28,\n",
       " 'pakistan': 29,\n",
       " 'lanka': 30,\n",
       " 'country': 31,\n",
       " 'world': 32,\n",
       " 'sea': 33,\n",
       " 'china': 34,\n",
       " 'bhutan': 35,\n",
       " 'east': 36,\n",
       " 'vicinity': 37,\n",
       " 'bangladesh': 38,\n",
       " 'south': 39,\n",
       " 'maritime': 40,\n",
       " 'india': 41,\n",
       " 'southeast': 42,\n",
       " 'democracy': 43,\n",
       " 'land': 44,\n",
       " 'islands': 45,\n",
       " 'share': 46,\n",
       " 'ocean': 47,\n",
       " 'republic': 48}"
      ]
     },
     "execution_count": 10,
     "metadata": {},
     "output_type": "execute_result"
    }
   ],
   "source": [
    "word_to_num"
   ]
  },
  {
   "cell_type": "code",
   "execution_count": 11,
   "id": "f76a5d15",
   "metadata": {},
   "outputs": [
    {
     "data": {
      "text/plain": [
       "{1: 'shares',\n",
       " 2: 'seventh-largest',\n",
       " 3: 'populous',\n",
       " 4: 'gaṇarājya',\n",
       " 5: 'indian',\n",
       " 6: 'bengal',\n",
       " 7: 'nicobar',\n",
       " 8: 'second-most',\n",
       " 9: 'maldives',\n",
       " 10: 'bay',\n",
       " 11: 'area',\n",
       " 12: 'hindi',\n",
       " 13: 'sri',\n",
       " 14: 'bhārat',\n",
       " 15: 'north',\n",
       " 16: 'indonesia',\n",
       " 17: 'officially',\n",
       " 18: 'thailand',\n",
       " 19: 'west',\n",
       " 20: 'myanmar',\n",
       " 21: 'southwest',\n",
       " 22: 'border',\n",
       " 23: 'nepal',\n",
       " 24: 'bounded',\n",
       " 25: 'arabian',\n",
       " 26: 'borders',\n",
       " 27: 'asia',\n",
       " 28: 'andaman',\n",
       " 29: 'pakistan',\n",
       " 30: 'lanka',\n",
       " 31: 'country',\n",
       " 32: 'world',\n",
       " 33: 'sea',\n",
       " 34: 'china',\n",
       " 35: 'bhutan',\n",
       " 36: 'east',\n",
       " 37: 'vicinity',\n",
       " 38: 'bangladesh',\n",
       " 39: 'south',\n",
       " 40: 'maritime',\n",
       " 41: 'india',\n",
       " 42: 'southeast',\n",
       " 43: 'democracy',\n",
       " 44: 'land',\n",
       " 45: 'islands',\n",
       " 46: 'share',\n",
       " 47: 'ocean',\n",
       " 48: 'republic'}"
      ]
     },
     "execution_count": 11,
     "metadata": {},
     "output_type": "execute_result"
    }
   ],
   "source": [
    "num_to_word"
   ]
  },
  {
   "cell_type": "code",
   "execution_count": 12,
   "id": "0676e4c8",
   "metadata": {},
   "outputs": [
    {
     "data": {
      "text/plain": [
       "['india',\n",
       " ',',\n",
       " 'officially',\n",
       " 'the',\n",
       " 'republic',\n",
       " 'of',\n",
       " 'india',\n",
       " '(',\n",
       " 'hindi',\n",
       " ':',\n",
       " 'bhārat',\n",
       " 'gaṇarājya',\n",
       " ',',\n",
       " 'is',\n",
       " 'a',\n",
       " 'country',\n",
       " 'in',\n",
       " 'south',\n",
       " 'asia',\n",
       " '.']"
      ]
     },
     "execution_count": 12,
     "metadata": {},
     "output_type": "execute_result"
    }
   ],
   "source": [
    "word_tokenize(sent_tokenize(corpus.lower())[0])"
   ]
  },
  {
   "cell_type": "code",
   "execution_count": 13,
   "id": "73133139",
   "metadata": {},
   "outputs": [
    {
     "data": {
      "text/plain": [
       "41"
      ]
     },
     "execution_count": 13,
     "metadata": {},
     "output_type": "execute_result"
    }
   ],
   "source": [
    "word_to_num[\"india\"]"
   ]
  },
  {
   "cell_type": "code",
   "execution_count": 14,
   "id": "a3440906",
   "metadata": {},
   "outputs": [
    {
     "data": {
      "text/plain": [
       "'second-most'"
      ]
     },
     "execution_count": 14,
     "metadata": {},
     "output_type": "execute_result"
    }
   ],
   "source": [
    "num_to_word[8]"
   ]
  },
  {
   "cell_type": "markdown",
   "id": "3ac71e96",
   "metadata": {},
   "source": [
    "# Encoding Sentences"
   ]
  },
  {
   "cell_type": "code",
   "execution_count": 22,
   "id": "61044eec",
   "metadata": {},
   "outputs": [
    {
     "name": "stdout",
     "output_type": "stream",
     "text": [
      "India officially Republic India Hindi Bhārat Gaṇarājya country South Asia \n",
      "[41, 17, 48, 41, 12, 14, 4, 31, 39, 27]\n",
      "seventh-largest country area second-most populous country populous democracy world \n",
      "[2, 31, 11, 8, 3, 31, 3, 43, 32]\n",
      "Bounded Indian Ocean south Arabian Sea southwest Bay Bengal southeast shares land borders Pakistan west China Nepal Bhutan north Bangladesh Myanmar east \n",
      "[24, 5, 47, 39, 25, 33, 21, 10, 6, 42, 1, 44, 26, 29, 19, 34, 23, 35, 15, 38, 20, 36]\n",
      "Indian Ocean India vicinity Sri Lanka Maldives Andaman Nicobar Islands share maritime border Thailand Myanmar Indonesia \n",
      "[5, 47, 41, 37, 13, 30, 9, 28, 7, 45, 46, 40, 22, 18, 20, 16]\n"
     ]
    }
   ],
   "source": [
    "data=[]\n",
    "for sent in sent_tokenize(corpus):\n",
    "    temp=[]\n",
    "    for word in word_tokenize(sent):\n",
    "        if (word.lower() not in stopwords.words(\"english\") and (len(word)>=2)):\n",
    "            print(word, end=\" \")\n",
    "            temp.append(word_to_num[word.lower()])\n",
    "    print()\n",
    "    print(temp)\n",
    "    data.append(temp)"
   ]
  },
  {
   "cell_type": "code",
   "execution_count": 24,
   "id": "48830645",
   "metadata": {},
   "outputs": [
    {
     "data": {
      "text/plain": [
       "[2, 31, 11, 8, 3, 31, 3, 43, 32]"
      ]
     },
     "execution_count": 24,
     "metadata": {},
     "output_type": "execute_result"
    }
   ],
   "source": [
    "data[1]"
   ]
  },
  {
   "cell_type": "markdown",
   "id": "d226dd98",
   "metadata": {},
   "source": [
    "# Decoding Sentences"
   ]
  },
  {
   "cell_type": "code",
   "execution_count": 27,
   "id": "e2f603c1",
   "metadata": {},
   "outputs": [
    {
     "name": "stdout",
     "output_type": "stream",
     "text": [
      "india officially republic india hindi bhārat gaṇarājya country south asia \n",
      "seventh-largest country area second-most populous country populous democracy world \n",
      "bounded indian ocean south arabian sea southwest bay bengal southeast shares land borders pakistan west china nepal bhutan north bangladesh myanmar east \n",
      "indian ocean india vicinity sri lanka maldives andaman nicobar islands share maritime border thailand myanmar indonesia \n"
     ]
    }
   ],
   "source": [
    "for sent in data:\n",
    "    for word in sent:\n",
    "        print(num_to_word[word], end=\" \")\n",
    "    print()"
   ]
  },
  {
   "cell_type": "markdown",
   "id": "5f533c0f",
   "metadata": {},
   "source": [
    "# Text Encoding - Decoding | Without Stop Words"
   ]
  },
  {
   "cell_type": "code",
   "execution_count": 32,
   "id": "f7e8ebba",
   "metadata": {},
   "outputs": [],
   "source": [
    "from nltk.tokenize import word_tokenize,sent_tokenize\n",
    "from nltk.corpus import stopwords\n",
    "\n",
    "corpus='''India, officially the Republic of India (Hindi: Bhārat Gaṇarājya),[25] is a country in South Asia. It is the seventh-largest country by area, the second-most populous country, and the most populous democracy in the world. Bounded by the Indian Ocean on the south, the Arabian Sea on the southwest, and the Bay of Bengal on the southeast, it shares land borders with Pakistan to the west;[f] China, Nepal, and Bhutan to the north; and Bangladesh and Myanmar to the east. In the Indian Ocean, India is in the vicinity of Sri Lanka and the Maldives; its Andaman and Nicobar Islands share a maritime border with Thailand, Myanmar, and Indonesia.'''\n",
    "\n",
    "corpus = corpus.replace(\"[25]\" , \"\")    \n",
    "corpus = corpus.replace(\"[f]\" , \"\")   \n",
    "corpus = corpus.replace(\")\" , \"\")"
   ]
  },
  {
   "cell_type": "code",
   "execution_count": 33,
   "id": "129007d5",
   "metadata": {},
   "outputs": [],
   "source": [
    "words=[]\n",
    "for word in word_tokenize(corpus):\n",
    "    if(len(word)==1):\n",
    "        if((ord(word)>=97 and ord(word)<=122) or (ord(word)>=65 and ord(word)<=90)):\n",
    "            words.append(word.lower())\n",
    "    else:\n",
    "        words.append(word.lower())"
   ]
  },
  {
   "cell_type": "code",
   "execution_count": 34,
   "id": "8c3e68cb",
   "metadata": {},
   "outputs": [
    {
     "data": {
      "text/plain": [
       "61"
      ]
     },
     "execution_count": 34,
     "metadata": {},
     "output_type": "execute_result"
    }
   ],
   "source": [
    "vocab=list(set(words))\n",
    "len(vocab)"
   ]
  },
  {
   "cell_type": "code",
   "execution_count": 35,
   "id": "57884893",
   "metadata": {},
   "outputs": [],
   "source": [
    "num=1\n",
    "word_to_num={}\n",
    "num_to_word={}\n",
    "for word in vocab:\n",
    "    word_to_num[word]=num\n",
    "    num_to_word[num]=word\n",
    "    num+=1"
   ]
  },
  {
   "cell_type": "markdown",
   "id": "a66e3ec4",
   "metadata": {},
   "source": [
    "## Encoding"
   ]
  },
  {
   "cell_type": "code",
   "execution_count": 36,
   "id": "06caca34",
   "metadata": {},
   "outputs": [
    {
     "name": "stdout",
     "output_type": "stream",
     "text": [
      "[[52, 20, 41, 59, 55, 52, 13, 16, 4, 14, 56, 38, 33, 49, 32], [50, 14, 41, 2, 38, 11, 12, 41, 8, 3, 38, 26, 41, 19, 3, 54, 33, 41, 39], [29, 11, 41, 5, 58, 43, 41, 49, 41, 30, 40, 43, 41, 25, 26, 41, 10, 55, 6, 43, 41, 53, 50, 1, 57, 31, 45, 35, 36, 41, 22, 42, 28, 26, 44, 36, 41, 17, 26, 48, 26, 24, 36, 41, 46], [33, 41, 5, 58, 52, 14, 33, 41, 47, 55, 15, 37, 26, 41, 9, 23, 34, 26, 7, 60, 61, 56, 51, 27, 45, 21, 24, 26, 18]]\n"
     ]
    }
   ],
   "source": [
    "data=[]\n",
    "for sent in sent_tokenize(corpus):\n",
    "    temp=[]\n",
    "    for word in word_tokenize(sent):\n",
    "        if(len(word)==1):\n",
    "            if((ord(word)>=97 and ord(word)<=122) or (ord(word)>=65 and ord(word)<=90)):\n",
    "                temp.append(word_to_num[word.lower()])\n",
    "        else:\n",
    "            temp.append(word_to_num[word.lower()])\n",
    "    data.append(temp)\n",
    "print(data)"
   ]
  },
  {
   "cell_type": "markdown",
   "id": "f9414529",
   "metadata": {},
   "source": [
    "## Decoding"
   ]
  },
  {
   "cell_type": "code",
   "execution_count": 38,
   "id": "3a2dcf9b",
   "metadata": {},
   "outputs": [
    {
     "name": "stdout",
     "output_type": "stream",
     "text": [
      "india officially the republic of india hindi bhārat gaṇarājya is a country in south asia \n",
      "it is the seventh-largest country by area the second-most populous country and the most populous democracy in the world \n",
      "bounded by the indian ocean on the south the arabian sea on the southwest and the bay of bengal on the southeast it shares land borders with pakistan to the west china nepal and bhutan to the north and bangladesh and myanmar to the east \n",
      "in the indian ocean india is in the vicinity of sri lanka and the maldives its andaman and nicobar islands share a maritime border with thailand myanmar and indonesia \n"
     ]
    }
   ],
   "source": [
    "for sent in data:\n",
    "    for word in sent:\n",
    "        print(num_to_word[word],end=' ')\n",
    "    print()"
   ]
  },
  {
   "cell_type": "code",
   "execution_count": 37,
   "id": "f83dd44b",
   "metadata": {},
   "outputs": [
    {
     "data": {
      "text/plain": [
       "['india',\n",
       " 'officially',\n",
       " 'the',\n",
       " 'republic',\n",
       " 'of',\n",
       " 'india',\n",
       " 'hindi',\n",
       " 'bhārat',\n",
       " 'gaṇarājya',\n",
       " 'is',\n",
       " 'a',\n",
       " 'country',\n",
       " 'in',\n",
       " 'south',\n",
       " 'asia',\n",
       " 'it',\n",
       " 'is',\n",
       " 'the',\n",
       " 'seventh-largest',\n",
       " 'country',\n",
       " 'by',\n",
       " 'area',\n",
       " 'the',\n",
       " 'second-most',\n",
       " 'populous',\n",
       " 'country',\n",
       " 'and',\n",
       " 'the',\n",
       " 'most',\n",
       " 'populous',\n",
       " 'democracy',\n",
       " 'in',\n",
       " 'the',\n",
       " 'world',\n",
       " 'bounded',\n",
       " 'by',\n",
       " 'the',\n",
       " 'indian',\n",
       " 'ocean',\n",
       " 'on',\n",
       " 'the',\n",
       " 'south',\n",
       " 'the',\n",
       " 'arabian',\n",
       " 'sea',\n",
       " 'on',\n",
       " 'the',\n",
       " 'southwest',\n",
       " 'and',\n",
       " 'the',\n",
       " 'bay',\n",
       " 'of',\n",
       " 'bengal',\n",
       " 'on',\n",
       " 'the',\n",
       " 'southeast',\n",
       " 'it',\n",
       " 'shares',\n",
       " 'land',\n",
       " 'borders',\n",
       " 'with',\n",
       " 'pakistan',\n",
       " 'to',\n",
       " 'the',\n",
       " 'west',\n",
       " 'china',\n",
       " 'nepal',\n",
       " 'and',\n",
       " 'bhutan',\n",
       " 'to',\n",
       " 'the',\n",
       " 'north',\n",
       " 'and',\n",
       " 'bangladesh',\n",
       " 'and',\n",
       " 'myanmar',\n",
       " 'to',\n",
       " 'the',\n",
       " 'east',\n",
       " 'in',\n",
       " 'the',\n",
       " 'indian',\n",
       " 'ocean',\n",
       " 'india',\n",
       " 'is',\n",
       " 'in',\n",
       " 'the',\n",
       " 'vicinity',\n",
       " 'of',\n",
       " 'sri',\n",
       " 'lanka',\n",
       " 'and',\n",
       " 'the',\n",
       " 'maldives',\n",
       " 'its',\n",
       " 'andaman',\n",
       " 'and',\n",
       " 'nicobar',\n",
       " 'islands',\n",
       " 'share',\n",
       " 'a',\n",
       " 'maritime',\n",
       " 'border',\n",
       " 'with',\n",
       " 'thailand',\n",
       " 'myanmar',\n",
       " 'and',\n",
       " 'indonesia']"
      ]
     },
     "execution_count": 37,
     "metadata": {},
     "output_type": "execute_result"
    }
   ],
   "source": [
    "words"
   ]
  },
  {
   "cell_type": "code",
   "execution_count": null,
   "id": "b1548e05",
   "metadata": {},
   "outputs": [],
   "source": []
  }
 ],
 "metadata": {
  "kernelspec": {
   "display_name": "Python 3",
   "language": "python",
   "name": "python3"
  },
  "language_info": {
   "codemirror_mode": {
    "name": "ipython",
    "version": 3
   },
   "file_extension": ".py",
   "mimetype": "text/x-python",
   "name": "python",
   "nbconvert_exporter": "python",
   "pygments_lexer": "ipython3",
   "version": "3.10.0"
  }
 },
 "nbformat": 4,
 "nbformat_minor": 5
}
